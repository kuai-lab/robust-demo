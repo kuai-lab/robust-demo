{
 "cells": [
  {
   "cell_type": "code",
   "execution_count": 1,
   "metadata": {},
   "outputs": [],
   "source": [
    "from PIL import Image, ImageSequence\n",
    "\n"
   ]
  },
  {
   "cell_type": "code",
   "execution_count": 20,
   "metadata": {},
   "outputs": [
    {
     "name": "stdout",
     "output_type": "stream",
     "text": [
      "Resizing explosion.gif...\n"
     ]
    },
    {
     "name": "stderr",
     "output_type": "stream",
     "text": [
      "/var/folders/kr/x2pj3kwx2tl018qb_jjdfj6m0000gn/T/ipykernel_74897/1039226674.py:14: DeprecationWarning: ANTIALIAS is deprecated and will be removed in Pillow 10 (2023-07-01). Use LANCZOS or Resampling.LANCZOS instead.\n",
      "  frame.thumbnail((512, 512), Image.ANTIALIAS)\n"
     ]
    },
    {
     "name": "stdout",
     "output_type": "stream",
     "text": [
      "Resizing thunder.gif...\n",
      "Resizing water.gif...\n",
      "Resizing wind.gif...\n",
      "Resizing church_fire.gif...\n",
      "Skip car_crash.gif because it's not 1024x1024.\n",
      "Skip cat_meowing.gif because it's not 1024x1024.\n",
      "Skip fursona_party_rock.gif because it's not 1024x1024.\n",
      "Skip fursona_tiger.gif because it's not 1024x1024.\n",
      "Skip fursona_party_rock_1.gif because it's not 1024x1024.\n",
      "Skip cat_meowing_1.gif because it's not 1024x1024.\n",
      "Skip fursona_tiger_1.gif because it's not 1024x1024.\n",
      "Resizing church_fire_1.gif...\n",
      "Skip car_crash_1.gif because it's not 1024x1024.\n",
      "Skip metface_crying.gif because it's not 1024x1024.\n",
      "Skip metface_crying2.gif because it's not 1024x1024.\n",
      "Skip wildlife_barking.gif because it's not 1024x1024.\n",
      "Skip metface_folk_music_1.gif because it's not 1024x1024.\n",
      "Skip metface_folk_music_2.gif because it's not 1024x1024.\n",
      "Skip ffhq_folk_music_1.gif because it's not 1024x1024.\n",
      "Skip ffhq_folk_music_2.gif because it's not 1024x1024.\n",
      "Skip wildlife_barking_loop.gif because it's not 1024x1024.\n",
      "Skip car_racing.gif because it's not 1024x1024.\n",
      "Skip metface_smiling.gif because it's not 1024x1024.\n"
     ]
    }
   ],
   "source": [
    "import glob\n",
    "\n",
    "gif_file_list = glob.glob(\"*.gif\")\n",
    "\n",
    "# if gif file size is 1024x1024,\n",
    "# resize to 512x512 so that every frames in the gif will be 512x512\n",
    "# and save to ${OriginalFileName}_resized.gif\n",
    "for gif_file in gif_file_list:\n",
    "    with Image.open(gif_file) as im:\n",
    "        if im.size[0] == 256 and im.size[1] == 256:\n",
    "            print(f\"Resizing {gif_file}...\")\n",
    "            frames = [frame.copy() for frame in ImageSequence.Iterator(im)]\n",
    "            for frame in frames:\n",
    "                frame.thumbnail((512, 512), Image.ANTIALIAS)\n",
    "            frames[0].save(f\"{gif_file[:-4]}_resized.gif\", save_all=True, append_images=frames[1:], loop=0, duration=im.info['duration'])\n",
    "        else:\n",
    "            print(f\"Skip {gif_file} because it's not 1024x1024.\")\n",
    "\n",
    "\n",
    "       "
   ]
  },
  {
   "cell_type": "code",
   "execution_count": 34,
   "metadata": {},
   "outputs": [
    {
     "name": "stdout",
     "output_type": "stream",
     "text": [
      "Resized GIF saved as wildlife_barking_resized.gif.\n"
     ]
    }
   ],
   "source": [
    "input_gif_path = \"explosion.gif\"\n",
    "input_gif_path = \"church_fire.gif\"\n",
    "input_gif_path = \"explosion.gif\"\n",
    "input_gif_path = \"water.gif\"\n",
    "input_gif_path = \"wildlife_barking.gif\"\n",
    "output_gif_path = input_gif_path[:-4] + \"_resized.gif\"\n",
    "\n",
    "# Open the original GIF\n",
    "with Image.open(input_gif_path) as gif:\n",
    "\n",
    "    frames = [frame.copy().resize((512, 512), Image.Resampling.LANCZOS) for frame in ImageSequence.Iterator(gif)]\n",
    "    \n",
    "    # Save the resized frames as a new GIF, preserving loop and duration settings\n",
    "    frames[0].save(output_gif_path, save_all=True, append_images=frames[1:], loop=0)\n",
    "\n",
    "print(f\"Resized GIF saved as {output_gif_path}.\")"
   ]
  },
  {
   "cell_type": "code",
   "execution_count": null,
   "metadata": {},
   "outputs": [],
   "source": []
  },
  {
   "cell_type": "code",
   "execution_count": 3,
   "metadata": {},
   "outputs": [
    {
     "data": {
      "text/plain": [
       "[(256, 256),\n",
       " (256, 256),\n",
       " (256, 256),\n",
       " (256, 256),\n",
       " (256, 256),\n",
       " (512, 512),\n",
       " (512, 512),\n",
       " (512, 512),\n",
       " (512, 512),\n",
       " (512, 512),\n",
       " (512, 512),\n",
       " (512, 512),\n",
       " (256, 256),\n",
       " (512, 512),\n",
       " (1024, 1024),\n",
       " (1024, 1024),\n",
       " (1024, 1024),\n",
       " (1024, 1024),\n",
       " (1024, 1024),\n",
       " (1024, 1024),\n",
       " (1024, 1024),\n",
       " (1024, 1024),\n",
       " (1024, 1024),\n",
       " (1024, 1024),\n",
       " (1024, 1024),\n",
       " (1024, 1024),\n",
       " (1024, 1024)]"
      ]
     },
     "execution_count": 3,
     "metadata": {},
     "output_type": "execute_result"
    }
   ],
   "source": []
  }
 ],
 "metadata": {
  "kernelspec": {
   "display_name": "first",
   "language": "python",
   "name": "python3"
  },
  "language_info": {
   "codemirror_mode": {
    "name": "ipython",
    "version": 3
   },
   "file_extension": ".py",
   "mimetype": "text/x-python",
   "name": "python",
   "nbconvert_exporter": "python",
   "pygments_lexer": "ipython3",
   "version": "3.10.9"
  }
 },
 "nbformat": 4,
 "nbformat_minor": 2
}

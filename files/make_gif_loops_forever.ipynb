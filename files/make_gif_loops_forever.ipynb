{
 "cells": [
  {
   "cell_type": "code",
   "execution_count": 5,
   "metadata": {},
   "outputs": [],
   "source": [
    "from PIL import Image, ImageSequence\n",
    "\n",
    "\n",
    "src_path = \"./wildlife_barking.gif\"\n",
    "dst_path = \"./wildlife_barking_loop.gif\"\n",
    "\n",
    "# Open the GIF\n",
    "with Image.open(src_path) as gif:\n",
    "    frames = [frame.copy() for frame in ImageSequence.Iterator(gif)]\n",
    "    frames[0].save(dst_path, save_all=True, append_images=frames[1:], loop=0)\n"
   ]
  }
 ],
 "metadata": {
  "kernelspec": {
   "display_name": "first",
   "language": "python",
   "name": "python3"
  },
  "language_info": {
   "codemirror_mode": {
    "name": "ipython",
    "version": 3
   },
   "file_extension": ".py",
   "mimetype": "text/x-python",
   "name": "python",
   "nbconvert_exporter": "python",
   "pygments_lexer": "ipython3",
   "version": "3.10.9"
  }
 },
 "nbformat": 4,
 "nbformat_minor": 2
}
